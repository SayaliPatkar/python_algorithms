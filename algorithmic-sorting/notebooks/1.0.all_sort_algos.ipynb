{
 "cells": [
  {
   "cell_type": "code",
   "execution_count": 1,
   "metadata": {},
   "outputs": [],
   "source": [
    "# To be sorted in ascending order\n",
    "sort_this = [-2, 45, 0, 11, -9]"
   ]
  },
  {
   "cell_type": "code",
   "execution_count": 2,
   "metadata": {},
   "outputs": [],
   "source": [
    "import numpy as np"
   ]
  },
  {
   "cell_type": "code",
   "execution_count": 19,
   "metadata": {},
   "outputs": [
    {
     "name": "stdout",
     "output_type": "stream",
     "text": [
      "[-2, 45, 0, 11, -9]\n",
      "[-9, -2, 0, 11, 45]\n"
     ]
    }
   ],
   "source": [
    "print(sort_this)\n",
    "def bubble_sort(sort_this):\n",
    "    list_copy =  sort_this.copy()\n",
    "    end_idx = len(list_copy)-1\n",
    "    for i in range (end_idx):\n",
    "        swapped = False # extra var adding O(1) space complexity\n",
    "        for j in range (end_idx-i):\n",
    "            if list_copy[j] > list_copy[j+1]:\n",
    "                swapped = True\n",
    "                list_copy[j], list_copy[j+1] = list_copy[j+1], list_copy[j]\n",
    "        if not swapped: # variable needed to reduce time complexity in best case scenario\n",
    "            return list_copy\n",
    "    return list_copy\n",
    "           \n",
    "print(bubble_sort(sort_this))       "
   ]
  },
  {
   "cell_type": "code",
   "execution_count": 21,
   "metadata": {},
   "outputs": [
    {
     "name": "stdout",
     "output_type": "stream",
     "text": [
      "[-2, 45, 0, 11, -9]\n",
      "[-9, -2, 0, 11, 45]\n"
     ]
    }
   ],
   "source": [
    "print(sort_this)\n",
    "def selection_sort(sort_this):\n",
    "    list_copy =  sort_this.copy()\n",
    "    len_list = len(list_copy)\n",
    "    for i in range (len_list):\n",
    "        next_idx = i + 1\n",
    "        if next_idx < len_list:\n",
    "            min_idx = np.argmin(list_copy[next_idx:len_list])\n",
    "            if list_copy[i] > list_copy[min_idx+next_idx]: \n",
    "                list_copy[i], list_copy[min_idx+next_idx] = list_copy[min_idx+next_idx], list_copy[i]\n",
    "    return list_copy\n",
    "print(selection_sort(sort_this)) "
   ]
  },
  {
   "cell_type": "code",
   "execution_count": 25,
   "metadata": {},
   "outputs": [
    {
     "name": "stdout",
     "output_type": "stream",
     "text": [
      "[10, 9, 8, 0, -13, -25]\n",
      "[-25, -13, 0, 8, 9, 10]\n"
     ]
    }
   ],
   "source": [
    "sort_this = [10, 9, 8, 0, -13, -25]\n",
    "print(sort_this)\n",
    "def insertion_sort(sort_this):\n",
    "    list_copy =  sort_this.copy()\n",
    "    len_list = len(list_copy)\n",
    "    for i in range (len_list):\n",
    "        current_element = list_copy[i]\n",
    "        j = i-1\n",
    "        while j >= 0 and current_element < list_copy[j]:\n",
    "            # bump jth element at next j+1 position\n",
    "            list_copy[j+1] = list_copy[j]\n",
    "            j -= 1\n",
    "        # the search stopped at j+1, this was the last element found that was bigger than current_min\n",
    "        # so replace it's place with current_min\n",
    "        list_copy[j+1] = current_element\n",
    "        \n",
    "    return list_copy\n",
    "print(insertion_sort(sort_this)) "
   ]
  },
  {
   "cell_type": "code",
   "execution_count": 26,
   "metadata": {},
   "outputs": [
    {
     "name": "stdout",
     "output_type": "stream",
     "text": [
      "[10, 9, 8, 0, -13, -25]\n",
      "[-25, -13, 0, 8, 9, 10]\n"
     ]
    }
   ],
   "source": [
    "sort_this = [10, 9, 8, 0, -13, -25]\n",
    "print(sort_this)\n",
    "\n",
    "def merge_sort(sort_this):\n",
    "    if len(sort_this) > 1:\n",
    "        mid_elem = len(sort_this)//2\n",
    "        left_arr = sort_this[:mid_elem]\n",
    "        right_arr = sort_this[mid_elem:]\n",
    "        \n",
    "        merge_sort(left_arr)\n",
    "        merge_sort(right_arr)\n",
    "        \n",
    "        i = j = k = 0\n",
    "        \n",
    "        while i < len(left_arr) and j < len(right_arr):\n",
    "            if left_arr[i] < right_arr[j]:\n",
    "                sort_this[k] = left_arr[i]\n",
    "                i += 1\n",
    "            else:\n",
    "                sort_this[k] = right_arr[j]\n",
    "                j += 1\n",
    "            k += 1\n",
    "            \n",
    "        while i < len(left_arr):\n",
    "            sort_this[k] = left_arr[i]\n",
    "            i += 1\n",
    "            k += 1\n",
    "        \n",
    "        while j < len(right_arr):\n",
    "            sort_this[k] = right_arr[j]\n",
    "            j += 1\n",
    "            k += 1\n",
    "    \n",
    "    \n",
    "merge_sort(sort_this)\n",
    "print(sort_this) "
   ]
  },
  {
   "cell_type": "code",
   "execution_count": 33,
   "metadata": {},
   "outputs": [
    {
     "name": "stdout",
     "output_type": "stream",
     "text": [
      "[10, 7, 15, -9, 20, -5, 0, 5]\n",
      "[-9, -5, 0, 5, 7, 10, 15, 20]\n"
     ]
    }
   ],
   "source": [
    "sort_this = [10, 7, 15, -9, 20, -5, 0, 5]\n",
    "print(sort_this)\n",
    "\n",
    "def partition(arr, left, right):\n",
    "    pi = arr[right]\n",
    "    i = left\n",
    "    j = right-1\n",
    "    \n",
    "    while i <= j:\n",
    "        while arr[i] < pi:\n",
    "            i += 1\n",
    "        while arr[j] > pi:\n",
    "            j -= 1  \n",
    "        if i < j:\n",
    "            arr[i], arr[j] = arr[j], arr[i]  \n",
    "            \n",
    "    arr[i], arr[right] = arr[right], arr[i]\n",
    "    return i\n",
    "\n",
    "def quick_sort(arr, left, right):\n",
    "    if left < right:\n",
    "        pivot = partition(arr, left, right)\n",
    "        quick_sort(arr, left, pivot-1)\n",
    "        quick_sort(arr, pivot+1, right)\n",
    "        \n",
    "quick_sort(sort_this, 0, len(sort_this)-1)\n",
    "print(sort_this) "
   ]
  },
  {
   "cell_type": "code",
   "execution_count": 35,
   "metadata": {},
   "outputs": [
    {
     "name": "stdout",
     "output_type": "stream",
     "text": [
      "[0, 0, 0, 0, 1, 1, 2, 3, 3, 3, 4, 4, 5, 5, 6, 6, 6, 7, 8, 8]\n"
     ]
    }
   ],
   "source": [
    "sort_this = [5, 8, 5, 0, 3, 4, 6, 1, 7, 3, 6, 0, 1, 0, 8, 6, 3, 2, 0, 4]\n",
    "\n",
    "def counting_sort(arr):\n",
    "    size = len(arr)\n",
    "    output = [0] * size\n",
    "    count = [0] * (max(arr) + 1)\n",
    "    \n",
    "    # populate count array\n",
    "    for i in range(0, size):\n",
    "        index = arr[i]\n",
    "        count[index] += 1\n",
    "    # populate cumulative count array\n",
    "    for i in range(1, len(count)):\n",
    "        count[i] = count[i-1] + count[i]\n",
    "    \n",
    "    i = size - 1\n",
    "    while i >= 0:\n",
    "        output[count[arr[i]] - 1] = arr[i]\n",
    "        count[arr[i]] -= 1\n",
    "        i -= 1\n",
    "    return output\n",
    "    \n",
    "print(counting_sort(sort_this))        "
   ]
  }
 ],
 "metadata": {
  "kernelspec": {
   "display_name": "pytorch_2_prediction_kern",
   "language": "python",
   "name": "pytorch_2_prediction_kern"
  },
  "language_info": {
   "codemirror_mode": {
    "name": "ipython",
    "version": 3
   },
   "file_extension": ".py",
   "mimetype": "text/x-python",
   "name": "python",
   "nbconvert_exporter": "python",
   "pygments_lexer": "ipython3",
   "version": "3.9.16"
  },
  "orig_nbformat": 4
 },
 "nbformat": 4,
 "nbformat_minor": 2
}
