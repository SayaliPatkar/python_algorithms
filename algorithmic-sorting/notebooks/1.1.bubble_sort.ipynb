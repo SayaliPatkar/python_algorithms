{
 "cells": [
  {
   "attachments": {},
   "cell_type": "markdown",
   "id": "34acc25f",
   "metadata": {},
   "source": [
    "# Bubble Sort\n",
    " \n",
    "Basic idea is that the algorithm repeatedly swaps adjacent elements if they are not in desired order.\n",
    "This way list gets sorted from the one end right to the other\n",
    "\n",
    "<img src=\"../data/bubble.png\" alt=\"Bubble Sort\" width=\"500\"/>\n",
    "\n",
    "### Time Complexities\n",
    "\n",
    "##### Worst Case Complexity: O(n2)\n",
    "    If we want to sort in ascending order and the array is in descending order then the worst case occurs.\n",
    "    \n",
    "##### Best Case Complexity: O(n)\n",
    "    If the array is already sorted, then there is no need for sorting.\n",
    "    However first_version_naive() still works with O(n2) time complexity\n",
    "    For better_optimized_bubble_sort() this complexity is lower O(n)\n",
    "    \n",
    "##### Average Case Complexity: O(n2)\n",
    "    It occurs when the elements of the array are in jumbled order (neither ascending nor descending).\n",
    "\n",
    "### Space Complexity\n",
    "\n",
    "    Space complexity is O(1) if an extra variable is used for swapping. \n",
    "    See method first_version_naive().\n",
    "    In the optimized bubble sort algorithm, the \"swapped\" variable is extra though placeholder \"bigger\" is avoided. \n",
    "    Hence, the space complexity will be O(1).\n",
    "    If both \"swapped\" and \"bigger\" are used the space complexity will be O(2).\n",
    " "
   ]
  },
  {
   "cell_type": "code",
   "execution_count": 97,
   "id": "7864abd0",
   "metadata": {},
   "outputs": [],
   "source": [
    "# random senario\n",
    "sort_this = [5, 1, 2, 4, 3]"
   ]
  },
  {
   "cell_type": "code",
   "execution_count": 98,
   "id": "07ac1aa9",
   "metadata": {},
   "outputs": [
    {
     "name": "stdout",
     "output_type": "stream",
     "text": [
      "sorted list :  [1, 2, 3, 4, 5]\n",
      "swap attempted 10 times\n"
     ]
    }
   ],
   "source": [
    "def first_version_naive(sort_this):\n",
    "    l_copy = sort_this.copy()\n",
    "    list_len = len(sort_this)\n",
    "    count = 0\n",
    "    for i in range(list_len):\n",
    "        for j in range (list_len-i-1):\n",
    "            count += 1\n",
    "            if l_copy[j]>l_copy[j+1]:\n",
    "                bigger = l_copy[j]\n",
    "                l_copy[j] = l_copy[j+1]\n",
    "                l_copy[j+1] = bigger\n",
    "    return l_copy, count\n",
    "\n",
    "sorted_, attempts_ = first_version_naive(sort_this)\n",
    "print(\"sorted list : \", sorted_)\n",
    "print(f\"swap attempted {attempts_} times\")"
   ]
  },
  {
   "attachments": {},
   "cell_type": "markdown",
   "id": "a8059995",
   "metadata": {},
   "source": [
    "## Optimized implementation\n",
    "The above function always runs O(N2) time even if the array is sorted. It can be optimized by stopping the algorithm if the inner loop didn’t cause any swap. "
   ]
  },
  {
   "cell_type": "code",
   "execution_count": 99,
   "id": "a45cff09",
   "metadata": {},
   "outputs": [
    {
     "name": "stdout",
     "output_type": "stream",
     "text": [
      "[5, 1, 2, 4, 3]\n",
      "sorted list :  [1, 2, 3, 4, 5]\n",
      "swap attempted 9 times\n"
     ]
    }
   ],
   "source": [
    "def better_optimized_bubble_sort(sort_this):\n",
    "    l_copy = sort_this.copy()\n",
    "    list_len = len(sort_this)\n",
    "    count = 0\n",
    "    # range(list_len) will also work but outer loop will repeat one time more than needed.\n",
    "    # upto ith element from last are already in place once outer loop finishes\n",
    "    for i in range(list_len-1):\n",
    "        # optimize code, so if the array is already sorted, it doesn't need\n",
    "        # to go through the entire process\n",
    "        swapped = False\n",
    "        for j in range(list_len-i-1):\n",
    "            count += 1\n",
    "            if l_copy[j]>l_copy[j+1]:\n",
    "                l_copy[j], l_copy[j+1] = l_copy[j+1], l_copy[j]\n",
    "                swapped = True\n",
    "\n",
    "        if not swapped:\n",
    "            # if we haven't needed to make a single swap in inner loop,\n",
    "            # we can just exit the main loop.\n",
    "            return l_copy, count\n",
    "    return l_copy, count\n",
    "print(sort_this)\n",
    "sorted_, attempts_ = better_optimized_bubble_sort(sort_this)\n",
    "print(\"sorted list : \", sorted_)\n",
    "print(f\"swap attempted {attempts_} times\")"
   ]
  },
  {
   "cell_type": "code",
   "execution_count": 100,
   "id": "dc8d8820",
   "metadata": {},
   "outputs": [
    {
     "name": "stdout",
     "output_type": "stream",
     "text": [
      "sorted list :  [1, 2, 3, 4, 5]\n",
      "list was parsed 10 times\n",
      "sorted list :  [1, 2, 3, 4, 5]\n",
      "list was parsed 4 times\n"
     ]
    }
   ],
   "source": [
    "# Best case senario\n",
    "sort_this = [1, 2, 3, 4, 5]\n",
    "sorted_, attempts_ = first_version_naive(sort_this)\n",
    "print(\"sorted list : \", sorted_)\n",
    "print(f\"list was parsed {attempts_} times\")\n",
    "\n",
    "sorted_, attempts_ = better_optimized_bubble_sort(sort_this)\n",
    "print(\"sorted list : \", sorted_)\n",
    "print(f\"list was parsed {attempts_} times\")"
   ]
  },
  {
   "cell_type": "code",
   "execution_count": 101,
   "id": "c48595ac",
   "metadata": {},
   "outputs": [
    {
     "name": "stdout",
     "output_type": "stream",
     "text": [
      "sorted list :  [1, 2, 3, 4, 5]\n",
      "list was parsed 10 times\n",
      "sorted list :  [1, 2, 3, 4, 5]\n",
      "list was parsed 10 times\n"
     ]
    }
   ],
   "source": [
    "# Worst case senario\n",
    "sort_this = [5, 4, 3, 2, 1]\n",
    "sorted_, attempts_ = first_version_naive(sort_this)\n",
    "print(\"sorted list : \", sorted_)\n",
    "print(f\"list was parsed {attempts_} times\")\n",
    "\n",
    "sorted_, attempts_ = better_optimized_bubble_sort(sort_this)\n",
    "print(\"sorted list : \", sorted_)\n",
    "print(f\"list was parsed {attempts_} times\")"
   ]
  }
 ],
 "metadata": {
  "kernelspec": {
   "display_name": "Python 3 (ipykernel)",
   "language": "python",
   "name": "python3"
  },
  "language_info": {
   "codemirror_mode": {
    "name": "ipython",
    "version": 3
   },
   "file_extension": ".py",
   "mimetype": "text/x-python",
   "name": "python",
   "nbconvert_exporter": "python",
   "pygments_lexer": "ipython3",
   "version": "3.8.16"
  }
 },
 "nbformat": 4,
 "nbformat_minor": 5
}
