{
 "cells": [
  {
   "attachments": {},
   "cell_type": "markdown",
   "id": "cbbb32f8",
   "metadata": {},
   "source": [
    "# Selection Sort\n",
    " \n",
    "Basic idea is that the algorithm in first pass brings smallest/largest element at it's correct place preserving the relative order of  other elements. For next pass second smallest/largest element is handled and so on\n",
    "\n",
    "<img src=\"../data/selection.png\" alt=\"Selection Sort\" width=\"500\"/>\n",
    "\n",
    "### Time Complexities\n",
    "The time complexity of the selection sort is the same in all cases. At every step, you have to find the minimum element and put it in the right place. The minimum element is not known until the end of the array is not reached.\n",
    "##### Worst Case Complexity: O(n2)\n",
    "    If we want to sort in ascending order and the array is in descending order then the worst case occurs.\n",
    "    \n",
    "##### Best Case Complexity: O(n2)\n",
    "    If the array is already sorted, still same number of swaps are attempted\n",
    "##### Average Case Complexity: O(n2)\n",
    "    It occurs when the elements of the array are in jumbled order (neither ascending nor descending).\n",
    "\n",
    "### Space Complexity\n",
    "\n",
    "    Space complexity is O(1) if an extra variable is used for min_idx. \n"
   ]
  },
  {
   "cell_type": "code",
   "execution_count": 2,
   "id": "4debbf39",
   "metadata": {},
   "outputs": [],
   "source": [
    "# random senario\n",
    "sort_this = [5, 1, 2, 4, 3]"
   ]
  },
  {
   "cell_type": "code",
   "execution_count": 6,
   "id": "a4a29077",
   "metadata": {},
   "outputs": [
    {
     "name": "stdout",
     "output_type": "stream",
     "text": [
      "sorted list :  [1, 2, 3, 4, 5]\n",
      "swap attempted 10 times\n"
     ]
    }
   ],
   "source": [
    "def selection_sort_optimized(sort_this):\n",
    "    l_copy = sort_this.copy()\n",
    "    l_len = len(sort_this)\n",
    "    count = 0\n",
    "    for i in range(l_len-1):\n",
    "        min_idx = i\n",
    "        for j in range (i+1, l_len):\n",
    "            count += 1\n",
    "            if l_copy[j]<l_copy[min_idx]:\n",
    "                min_idx = j\n",
    "        l_copy[i], l_copy[min_idx] = l_copy[min_idx], l_copy[i]\n",
    "    return l_copy, count\n",
    "\n",
    "sorted_, attempts_ = selection_sort_optimized(sort_this)\n",
    "print(\"sorted list : \", sorted_)\n",
    "print(f\"swap attempted {attempts_} times\")"
   ]
  },
  {
   "cell_type": "code",
   "execution_count": 6,
   "id": "39420cdd",
   "metadata": {},
   "outputs": [
    {
     "name": "stdout",
     "output_type": "stream",
     "text": [
      "[5, 1, 2, 4, 3]\n",
      "[1, 5, 2, 4, 3] 0 1\n",
      "[1, 2, 5, 4, 3] 1 1\n",
      "[1, 2, 3, 4, 5] 2 2\n",
      "[1, 2, 3, 4, 5] 3 0\n",
      "sorted list :  [1, 2, 3, 4, 5]\n"
     ]
    }
   ],
   "source": [
    "import numpy as np\n",
    "def selection_sort_advanced(sort_this):\n",
    "    l_copy = sort_this.copy()\n",
    "    print(l_copy)\n",
    "    l_len = len(sort_this)\n",
    "    for i in range(l_len - 1):\n",
    "        min_index = np.argmin(l_copy[i:])\n",
    "        l_copy[i], l_copy[min_index+i] = l_copy[min_index+i], l_copy[i]\n",
    "        print(l_copy, i, min_index)\n",
    "    return l_copy\n",
    "        \n",
    "sorted_ = selection_sort_advanced(sort_this)\n",
    "print(\"sorted list : \", sorted_)"
   ]
  },
  {
   "cell_type": "code",
   "execution_count": null,
   "id": "da3cf344",
   "metadata": {},
   "outputs": [],
   "source": [
    "# Best case senario\n",
    "sort_this = [1, 2, 3, 4, 5]\n",
    "sorted_, attempts_ = selection_sort_optimized(sort_this)\n",
    "print(\"sorted list : \", sorted_)\n",
    "print(f\"list was parsed {attempts_} times\")\n",
    "\n",
    "sorted_, attempts_ = selection_sort_optimized(sort_this)\n",
    "print(\"sorted list : \", sorted_)\n",
    "print(f\"list was parsed {attempts_} times\")"
   ]
  },
  {
   "cell_type": "code",
   "execution_count": 10,
   "id": "a011cea0",
   "metadata": {},
   "outputs": [
    {
     "name": "stdout",
     "output_type": "stream",
     "text": [
      "sorted list :  [1, 2, 3, 4, 5]\n",
      "list was parsed 10 times\n",
      "sorted list :  [1, 2, 3, 4, 5]\n",
      "list was parsed 10 times\n"
     ]
    }
   ],
   "source": [
    "# Worst case senario\n",
    "sort_this = [5, 4, 3, 2, 1]\n",
    "sorted_, attempts_ = selection_sort_optimized(sort_this)\n",
    "print(\"sorted list : \", sorted_)\n",
    "print(f\"list was parsed {attempts_} times\")\n",
    "\n",
    "sorted_, attempts_ = selection_sort_optimized(sort_this)\n",
    "print(\"sorted list : \", sorted_)\n",
    "print(f\"list was parsed {attempts_} times\")"
   ]
  },
  {
   "cell_type": "code",
   "execution_count": null,
   "id": "425c882f",
   "metadata": {},
   "outputs": [],
   "source": []
  }
 ],
 "metadata": {
  "kernelspec": {
   "display_name": "chind_apply_3",
   "language": "python",
   "name": "chind_apply_3"
  },
  "language_info": {
   "codemirror_mode": {
    "name": "ipython",
    "version": 3
   },
   "file_extension": ".py",
   "mimetype": "text/x-python",
   "name": "python",
   "nbconvert_exporter": "python",
   "pygments_lexer": "ipython3",
   "version": "3.8.16"
  }
 },
 "nbformat": 4,
 "nbformat_minor": 5
}
