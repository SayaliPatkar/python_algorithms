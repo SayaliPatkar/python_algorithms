{
 "cells": [
  {
   "attachments": {},
   "cell_type": "markdown",
   "id": "e8aa0bfc",
   "metadata": {},
   "source": [
    "# Insertion Sort\n",
    " \n",
    "This sorting algorithm divides the array in two sections : sorted and unsorted. In each iteration, new element is inserted in sorted section from unsorted section. Inside the sorted section, the new element has to find it's optimal position to keep the sorted section sorted. \n",
    "\n",
    "<img src=\"../data/insertion.png\" alt=\"Insertion Sort\" width=\"500\"/>\n",
    "\n",
    "### Time Complexities\n",
    "##### Worst Case Complexity: O(n2)\n",
    "    If we want to sort in ascending order and the array is in descending order then the worst case occurs.\n",
    "    \n",
    "##### Best Case Complexity: O(n)\n",
    "    When the array is already sorted, the outer loop runs for n number of times whereas the inner loop does not run at all. So, there are only n number of comparisons. Thus, complexity is linear.\n",
    "    \n",
    "##### Average Case Complexity: O(n2)\n",
    "    It occurs when the elements of the array are in jumbled order (neither ascending nor descending).\n",
    "\n",
    "### Space Complexity\n",
    "\n",
    "    Space complexity is O(1) if an extra variable is used for current_min. "
   ]
  },
  {
   "cell_type": "code",
   "execution_count": 1,
   "id": "105bc740",
   "metadata": {},
   "outputs": [],
   "source": [
    "# random senario\n",
    "sort_this = [5, 1, 2, 4, 3]"
   ]
  },
  {
   "cell_type": "code",
   "execution_count": 4,
   "id": "1c4d63ec",
   "metadata": {},
   "outputs": [
    {
     "name": "stdout",
     "output_type": "stream",
     "text": [
      "sorted list :  [1, 2, 3, 4, 5]\n"
     ]
    }
   ],
   "source": [
    "def insertion_sort_optimized(sort_this):\n",
    "    l_copy = sort_this.copy()\n",
    "    l_len = len(sort_this)\n",
    "    for i in range(1, l_len):\n",
    "        current_element = l_copy[i]\n",
    "        j = i-1\n",
    "        # Compare current_min with each element on the left of it \n",
    "        # if compared element is bigger than key, keep shifting it to form sorted array\n",
    "        # stop when an element smaller than current_min is found\n",
    "        # until an element smaller than it is found\n",
    "        while j >= 0 and current_element < l_copy[j]:\n",
    "            # bump jth element at j+1 position\n",
    "            #l_copy[j+1]=l_copy[j]\n",
    "            j -= 1\n",
    "        # the search stopped at j+1, this was the last element found that was bigger than current_min\n",
    "        # so replace it's place with current_min\n",
    "        l_copy[j+1] = current_min\n",
    "    return l_copy\n",
    "            \n",
    "sorted_= insertion_sort_optimized(sort_this)\n",
    "print(\"sorted list : \", sorted_)"
   ]
  },
  {
   "cell_type": "code",
   "execution_count": null,
   "id": "98ae07b8",
   "metadata": {},
   "outputs": [],
   "source": []
  }
 ],
 "metadata": {
  "kernelspec": {
   "display_name": "python_basic_venv",
   "language": "python",
   "name": "python_basic_venv"
  },
  "language_info": {
   "codemirror_mode": {
    "name": "ipython",
    "version": 3
   },
   "file_extension": ".py",
   "mimetype": "text/x-python",
   "name": "python",
   "nbconvert_exporter": "python",
   "pygments_lexer": "ipython3",
   "version": "3.10.8"
  }
 },
 "nbformat": 4,
 "nbformat_minor": 5
}
