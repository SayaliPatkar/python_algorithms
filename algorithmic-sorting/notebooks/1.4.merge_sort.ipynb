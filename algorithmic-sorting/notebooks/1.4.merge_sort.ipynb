{
 "cells": [
  {
   "attachments": {},
   "cell_type": "markdown",
   "id": "6c689aec",
   "metadata": {},
   "source": [
    "# Quick Sort\n",
    " \n",
    "Merge Sort is a divide-and-conquer algorithm. In each iteration, merge sort divides the input array into two equal subarrays, calls itself recursively for the two subarrays, and finally merges the two sorted halves.\n",
    "\n",
    "<img src=\"../data/merge_sort.png\" alt=\"Merge Sort\" width=\"500\"/>\n",
    "\n",
    "\n",
    "### Time Complexities\n",
    "\n",
    "##### Worst Case Complexity: O(n*log n)\n",
    "\n",
    "##### Best Case Complexity: O(n*log n)\n",
    "    \n",
    "##### Average Case Complexity: O(n*log n)\n",
    "\n",
    "### Space Complexity\n",
    "\n",
    "    Space complexity is O(n) because an extra array is used to produce sorted array "
   ]
  },
  {
   "cell_type": "code",
   "execution_count": 12,
   "id": "72516989",
   "metadata": {},
   "outputs": [],
   "source": [
    "# random senario\n",
    "sort_this = [-2, 45, 0, 11, -9]"
   ]
  },
  {
   "cell_type": "code",
   "execution_count": 13,
   "id": "012c5977",
   "metadata": {},
   "outputs": [
    {
     "name": "stdout",
     "output_type": "stream",
     "text": [
      "[-9, -2, 0, 11, 45]\n"
     ]
    }
   ],
   "source": [
    "def merge_sort(arr):\n",
    "    if len(arr) > 1:\n",
    "        left_arr = arr[:len(arr)//2]\n",
    "        right_arr = arr[len(arr)//2:]\n",
    "        \n",
    "        merge_sort(left_arr)\n",
    "        merge_sort(right_arr)\n",
    "        \n",
    "        i = j = k = 0\n",
    "        \n",
    "        while i < len(left_arr) and j < len(right_arr):\n",
    "            if left_arr[i] < right_arr[j]:\n",
    "                arr[k] = left_arr[i]\n",
    "                i += 1\n",
    "            else:\n",
    "                arr[k] = right_arr[j]\n",
    "                j += 1\n",
    "            k += 1    \n",
    "        \n",
    "        while i < len(left_arr):\n",
    "            arr[k] = left_arr[i]\n",
    "            i += 1\n",
    "            k += 1\n",
    "        \n",
    "        while j < len(right_arr):\n",
    "            arr[k] = right_arr[j]\n",
    "            j += 1\n",
    "            k += 1\n",
    "            \n",
    "merge_sort(sort_this)\n",
    "print(sort_this)"
   ]
  }
 ],
 "metadata": {
  "kernelspec": {
   "display_name": "pytorch_2_prediction_kern",
   "language": "python",
   "name": "pytorch_2_prediction_kern"
  },
  "language_info": {
   "codemirror_mode": {
    "name": "ipython",
    "version": 3
   },
   "file_extension": ".py",
   "mimetype": "text/x-python",
   "name": "python",
   "nbconvert_exporter": "python",
   "pygments_lexer": "ipython3",
   "version": "3.9.16"
  }
 },
 "nbformat": 4,
 "nbformat_minor": 5
}
