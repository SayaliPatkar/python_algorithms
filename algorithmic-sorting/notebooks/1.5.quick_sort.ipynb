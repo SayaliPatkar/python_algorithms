{
 "cells": [
  {
   "attachments": {},
   "cell_type": "markdown",
   "id": "96725cf0",
   "metadata": {},
   "source": [
    "# Quick Sort\n",
    " \n",
    "Divide and conquer algorithm. The intuitive idea behind quick sort is it picks an element as the pivot from a given array of elements and then partitions the array around the pivot element. \n",
    "\n",
    "<img src=\"../data/quick_sort.png\" alt=\"Quick Sort\" width=\"500\"/>\n",
    "\n",
    "The array is partitioned in a fashion such that all elements less than the pivot are in the left subarray while all elements strictly greater than the pivot element are stored in the right subarray. Quicksort function is invoked again for the two subarrays created above and steps are repeated.\n",
    "\n",
    "<img src=\"../data/quick_sort_1.png\" alt=\"Partition Logic\" width=\"400\"/>\n",
    "\n",
    "### Time Complexities\n",
    "\n",
    "##### Worst Case Complexity: O(n2)\n",
    "    It occurs when the pivot element picked is either the greatest or the smallest element. This condition leads to the case in which the pivot element lies in an extreme end of the sorted array. One sub-array is always empty and another sub-array contains n - 1 elements. Thus, quicksort is called only on this sub-array.\n",
    "    However, the quicksort algorithm has better performance for scattered pivots.\n",
    "\n",
    "    Thus, the total number of worst comparisons = n*(n-1) ~ n2\n",
    "\n",
    "    \n",
    "##### Best Case Complexity: O(n*log n)\n",
    "    It occurs when the pivot element is always the middle element or near to the middle element.\n",
    "    \n",
    "##### Average Case Complexity: O(n*log n)\n",
    "    It occurs when pivot element is not extreme ends of sorted array plus it's not even from the middle of sorted array\n",
    "\n",
    "### Space Complexity\n",
    "\n",
    "    Space complexity is O(log n) for in-place replacement logic"
   ]
  },
  {
   "cell_type": "code",
   "execution_count": 2,
   "id": "ce2c424a",
   "metadata": {},
   "outputs": [],
   "source": [
    "# random senario\n",
    "sort_this = [5, 1, 2, 4, 3]"
   ]
  },
  {
   "cell_type": "code",
   "execution_count": 12,
   "id": "a6fe9808",
   "metadata": {},
   "outputs": [
    {
     "name": "stdout",
     "output_type": "stream",
     "text": [
      "sorted list :  [1, 2, 3, 4, 5]\n"
     ]
    }
   ],
   "source": [
    "# Althogh this method is effective in learning and quickly programmatically translating the logic behind quick sort algorithm,\n",
    "# the space complexity of this implementation is much higher than O(1).\n",
    "# As we keep on creating greater_thans and smaller_thans lists recurrently, we make the algorithm consume more memory space\n",
    "# as the to-be-sorted list gets bigger\n",
    "def quick_n_dirty(l_copy):\n",
    "    len_l = len(l_copy)\n",
    "    if len_l > 1:\n",
    "        pivot = l_copy.pop(len_l-1)\n",
    "        greater_thans = []\n",
    "        smaller_thans = []\n",
    "        for i in range(0, len_l-1):\n",
    "            if l_copy[i] > pivot:\n",
    "                greater_thans.append(l_copy[i])\n",
    "            else:\n",
    "                smaller_thans.append(l_copy[i])\n",
    "        return quick_n_dirty(smaller_thans) + [pivot] + quick_n_dirty(greater_thans)\n",
    "    elif len_l == 1:\n",
    "        return l_copy\n",
    "    return []\n",
    " \n",
    "\n",
    "\n",
    "sorted_ = quick_n_dirty(sort_this)  \n",
    "print(\"sorted list : \", sorted_)    "
   ]
  },
  {
   "cell_type": "code",
   "execution_count": 16,
   "id": "78bdd6a6",
   "metadata": {},
   "outputs": [
    {
     "name": "stdout",
     "output_type": "stream",
     "text": [
      "2\n",
      "[1, 2, 3, 4, 5]\n",
      "____________________________________________\n",
      "1\n",
      "[1, 2, 3, 4, 5]\n",
      "____________________________________________\n",
      "4\n",
      "[1, 2, 3, 4, 5]\n",
      "____________________________________________\n",
      "sorted list :  None\n"
     ]
    }
   ],
   "source": [
    "# In place implementation of quick sort reduces the space complexity\n",
    "\n",
    "# function to find the partition position\n",
    "def partition(array, low, high):\n",
    "    # choose the rightmost element as pivot\n",
    "    pivot = array[high]\n",
    "    # pointer for greater element\n",
    "    i = low - 1\n",
    "\n",
    "    # traverse through all elements\n",
    "    # compare each element with pivot\n",
    "    for j in range(low, high):\n",
    "        if array[j] <= pivot:\n",
    "            # if element smaller than pivot is found\n",
    "            # swap it with the greater element pointed by i\n",
    "            i = i + 1\n",
    "\n",
    "            # swapping element at i with element at j\n",
    "            (array[i], array[j]) = (array[j], array[i])\n",
    "\n",
    "    # swap the pivot element with the greater element specified by i\n",
    "    (array[i + 1], array[high]) = (array[high], array[i + 1])\n",
    "\n",
    "    # return the position from where partition is done\n",
    "    return i + 1\n",
    "\n",
    "# function to perform quicksort\n",
    "def quick_sort_inplace(array, low, high):\n",
    "    if low < high:\n",
    "\n",
    "        # find pivot element such that\n",
    "        # element smaller than pivot are on the left\n",
    "        # element greater than pivot are on the right\n",
    "        pi = partition(array, low, high)\n",
    "        print(pi)\n",
    "        print(array)\n",
    "        print(\"____________________________________________\")\n",
    "\n",
    "        # recursive call on the left of pivot\n",
    "        quick_sort_inplace(array, low, pi - 1)\n",
    "\n",
    "        # recursive call on the right of pivot\n",
    "        quick_sort_inplace(array, pi + 1, high)\n",
    "\n",
    "sort_this = [5, 1, 2, 4, 3]\n",
    "quick_sort_inplace(sort_this, 0, len(sort_this)-1)  \n",
    "print(\"sorted list : \", sort_this)  "
   ]
  },
  {
   "cell_type": "code",
   "execution_count": 21,
   "id": "213c26fc",
   "metadata": {},
   "outputs": [
    {
     "name": "stdout",
     "output_type": "stream",
     "text": [
      "4\n",
      "[1, 2, 3, 4, 5]\n",
      "____________________________________________\n",
      "3\n",
      "[1, 2, 3, 4, 5]\n",
      "____________________________________________\n",
      "2\n",
      "[1, 2, 3, 4, 5]\n",
      "____________________________________________\n",
      "1\n",
      "[1, 2, 3, 4, 5]\n",
      "____________________________________________\n",
      "sorted list :  [1, 2, 3, 4, 5]\n",
      "---------------------------------------------------------\n",
      "0\n",
      "[1, 4, 3, 2, 5]\n",
      "____________________________________________\n",
      "4\n",
      "[1, 4, 3, 2, 5]\n",
      "____________________________________________\n",
      "1\n",
      "[1, 2, 3, 4, 5]\n",
      "____________________________________________\n",
      "3\n",
      "[1, 2, 3, 4, 5]\n",
      "____________________________________________\n",
      "sorted list :  [1, 2, 3, 4, 5]\n"
     ]
    }
   ],
   "source": [
    "# Worst case senario\n",
    "sort_this = [1, 2, 3, 4, 5]\n",
    "quick_sort_inplace(sort_this, 0, len(sort_this)-1)\n",
    "print(\"sorted list : \", sort_this)\n",
    "print(\"---------------------------------------------------------\")\n",
    "sort_this = [5, 4, 3, 2, 1]\n",
    "quick_sort_inplace(sort_this, 0, len(sort_this)-1)\n",
    "print(\"sorted list : \", sort_this)"
   ]
  },
  {
   "cell_type": "code",
   "execution_count": 19,
   "id": "a4201b46",
   "metadata": {},
   "outputs": [
    {
     "name": "stdout",
     "output_type": "stream",
     "text": [
      "0\n",
      "[1, 4, 3, 2, 5]\n",
      "____________________________________________\n",
      "4\n",
      "[1, 4, 3, 2, 5]\n",
      "____________________________________________\n",
      "1\n",
      "[1, 2, 3, 4, 5]\n",
      "____________________________________________\n",
      "3\n",
      "[1, 2, 3, 4, 5]\n",
      "____________________________________________\n",
      "sorted list :  [1, 2, 3, 4, 5]\n"
     ]
    }
   ],
   "source": [
    "# Best case senario\n"
   ]
  },
  {
   "cell_type": "code",
   "execution_count": null,
   "id": "7c4fc2b8",
   "metadata": {},
   "outputs": [],
   "source": []
  }
 ],
 "metadata": {
  "kernelspec": {
   "display_name": "python_basic_venv",
   "language": "python",
   "name": "python_basic_venv"
  },
  "language_info": {
   "codemirror_mode": {
    "name": "ipython",
    "version": 3
   },
   "file_extension": ".py",
   "mimetype": "text/x-python",
   "name": "python",
   "nbconvert_exporter": "python",
   "pygments_lexer": "ipython3",
   "version": "3.10.8"
  }
 },
 "nbformat": 4,
 "nbformat_minor": 5
}
