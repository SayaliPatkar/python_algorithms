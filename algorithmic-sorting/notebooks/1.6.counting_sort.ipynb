{
 "cells": [
  {
   "attachments": {},
   "cell_type": "markdown",
   "metadata": {},
   "source": [
    "# Counting Sort\n",
    " \n",
    "Counting sort is a sorting algorithm that sorts the elements of an integer array containing multiple occurrences of same elements. Sorting is done by counting the number of occurrences of each unique element in the array. The count is stored in an auxiliary array and the sorting is done by mapping the count as an index of the auxiliary array. \n",
    "\n",
    "Assuming array is of length n and consists of k unique elements.\n",
    "\n",
    "If array is of positive integers, auxiliary array could be array where index represents main array's element and auxiliary element is number of occurrences of that main array's element. This auxiliary array could later be concerted to \"cumulative\" count array. Which is ultimately used for sorting.\n",
    "\n",
    "<img src=\"../data/counting_sort_1.png\" alt=\"Positive Array\" width=\"500\"/>\n",
    "\n",
    "In case of negative integer array, auxiliary array relations could be more challenging as now index could NOT represent main array's element anymore.\n",
    "\n",
    "<img src=\"../data/counting_sort_2.png\" alt=\"Negative Array\" width=\"500\"/>\n",
    "\n",
    "### Time Complexities\n",
    "    Assuming array is of length n and consists of k unique elements.\n",
    "\n",
    "    Worst Case Complexity: O(n+k)\n",
    "\n",
    "    Best Case Complexity: O(n+k)\n",
    "    \n",
    "    Average Case Complexity: O(n+k)\n",
    "\n",
    "\n",
    "### Space Complexity\n",
    "\n",
    "    Space complexity is O(n+k) or O(max) for in-place replacement logic."
   ]
  },
  {
   "cell_type": "code",
   "execution_count": 12,
   "metadata": {},
   "outputs": [],
   "source": [
    "# random senario\n",
    "sort_this = [5, 1, 0, 3, 4, 1, 3, 0, 1, 4]"
   ]
  },
  {
   "cell_type": "code",
   "execution_count": 13,
   "metadata": {},
   "outputs": [
    {
     "name": "stdout",
     "output_type": "stream",
     "text": [
      "[0, 0, 1, 1, 1, 3, 3, 4, 4, 5]\n"
     ]
    }
   ],
   "source": [
    "def counting_sort(arr):\n",
    "    size = len(arr)\n",
    "    output = [0] * size\n",
    "    count = [0] * (max(arr)+1)\n",
    "    \n",
    "    # build count array\n",
    "    for i in range(0, size):\n",
    "        index = arr[i]\n",
    "        count[index] += 1\n",
    "    \n",
    "    # build cumulative count array  \n",
    "    for i in range(1, len(count)):\n",
    "        count[i] = count[i-1] + count[i]\n",
    "        \n",
    "    # traverse arr from back to front\n",
    "    # to keep even duplicate elements in FIFO order after sort\n",
    "    index = size - 1\n",
    "    while index >= 0:\n",
    "        output[count[arr[index]] - 1] = arr[index]\n",
    "        count[arr[index]] -= 1\n",
    "        index -= 1\n",
    "        \n",
    "    return output\n",
    "\n",
    "print(counting_sort(sort_this))\n"
   ]
  }
 ],
 "metadata": {
  "kernelspec": {
   "display_name": "pytorch_2_prediction_kern",
   "language": "python",
   "name": "pytorch_2_prediction_kern"
  },
  "language_info": {
   "codemirror_mode": {
    "name": "ipython",
    "version": 3
   },
   "file_extension": ".py",
   "mimetype": "text/x-python",
   "name": "python",
   "nbconvert_exporter": "python",
   "pygments_lexer": "ipython3",
   "version": "3.9.16"
  },
  "orig_nbformat": 4
 },
 "nbformat": 4,
 "nbformat_minor": 2
}
