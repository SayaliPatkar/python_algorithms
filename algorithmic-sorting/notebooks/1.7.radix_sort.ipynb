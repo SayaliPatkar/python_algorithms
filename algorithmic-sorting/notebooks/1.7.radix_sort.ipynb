{
 "cells": [
  {
   "attachments": {},
   "cell_type": "markdown",
   "metadata": {},
   "source": [
    "# Radix Sort\n",
    " \n",
    "Radix sort is a sorting algorithm that does sorting without actual element level comparison. Instead it is a bucket-based sorting by comparing face values of unit’s, 10’s or 100’s place digits. \n",
    "\n",
    "<img src=\"../data/Radix_sort_1.png\" alt=\"Place and Face values\" width=\"200\"/>\n",
    "\n",
    "This type of sorting can be used for array of positive integers, array can have mixed element set containing 1 to n digit integers. This logic can also be used for alphabetical sorting.\n",
    "\n",
    "\n",
    "Radix Sort distributes the elements into buckets based on each digit’s value. By repeatedly sorting the elements by their significant digits, from the least significant to the most significant, (or most significant to the least significant for strings) Radix Sort achieves the final sorted order.\n",
    "\n",
    "<img src=\"../data/Radix_sort_2.png\" alt=\"Radix Sorting\" width=\"500\"/>\n",
    "\n",
    "\n",
    "### Time Complexities\n",
    "\n",
    "    It has a time complexity of O(d * (n + b)), where d is the number of digits, n is the number of elements, and b is the base of the number system being used\n",
    "\n",
    "\n",
    "### Space Complexity\n",
    "\n",
    "    Space complexity is O(n + b), where n is the number of elements and b is the base of the number system."
   ]
  },
  {
   "cell_type": "code",
   "execution_count": 22,
   "metadata": {},
   "outputs": [],
   "source": [
    "# random scenario\n",
    "sort_this = [170, 45, 999, 75, 90, 802, 24, 2, 66, 38, 4]"
   ]
  },
  {
   "cell_type": "code",
   "execution_count": 23,
   "metadata": {},
   "outputs": [
    {
     "name": "stdout",
     "output_type": "stream",
     "text": [
      "[2, 4, 24, 38, 45, 66, 75, 90, 170, 802, 999]\n"
     ]
    }
   ],
   "source": [
    "def radix_sort(arr):\n",
    "    max_elem = max(arr)\n",
    "    num = len(str(max_elem))\n",
    "    divisor = []\n",
    "    \n",
    "    for i in range(num):\n",
    "        divisor.append(10**(i))\n",
    "    \n",
    "    for di in divisor:\n",
    "        output = []\n",
    "        buckets = { 0:[], 1:[], 2:[], 3:[], 4:[], 5:[], 6:[], 7:[], 8:[], 9:[] }\n",
    "        for i in range(0, len(arr)):\n",
    "            face_value = int(arr[i] % (di*10) // di)\n",
    "            buckets[face_value].append(arr[i])\n",
    "        for idx, buck_list in buckets.items():\n",
    "            output += buck_list\n",
    "        for i, elem in enumerate(output):\n",
    "            arr[i] = elem\n",
    "        \n",
    "radix_sort(sort_this)\n",
    "print(sort_this)    "
   ]
  }
 ],
 "metadata": {
  "kernelspec": {
   "display_name": "pytorch_2_prediction_kern",
   "language": "python",
   "name": "pytorch_2_prediction_kern"
  },
  "language_info": {
   "codemirror_mode": {
    "name": "ipython",
    "version": 3
   },
   "file_extension": ".py",
   "mimetype": "text/x-python",
   "name": "python",
   "nbconvert_exporter": "python",
   "pygments_lexer": "ipython3",
   "version": "3.9.16"
  },
  "orig_nbformat": 4
 },
 "nbformat": 4,
 "nbformat_minor": 2
}
