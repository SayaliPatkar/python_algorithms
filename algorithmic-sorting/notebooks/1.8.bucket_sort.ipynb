{
 "cells": [
  {
   "attachments": {},
   "cell_type": "markdown",
   "metadata": {},
   "source": [
    "# Bucket Sort\n",
    " \n",
    "Bucket sort is an algorithm that again uses scatter and gather sorting approach.  \n",
    "\n",
    "<img src=\"../data/bucket_sort.png\" alt=\"Bucket Sort\" width=\"300\"/>\n",
    "\n",
    "Where a bucket structure is created based on range of array elements. Then array elements are conditionally distributed into their bucket compartments. Then elements inside each bucket are sorted using basic sorting logic. Then the whole bucket structure is merged back to form sorted array.\n",
    "\n"
   ]
  },
  {
   "cell_type": "code",
   "execution_count": 9,
   "metadata": {},
   "outputs": [],
   "source": [
    "import numpy as np"
   ]
  },
  {
   "cell_type": "code",
   "execution_count": 12,
   "metadata": {},
   "outputs": [],
   "source": [
    "# random scenario\n",
    "sort_this = [0.897, 0.565, 0.656, 0.1234, 0.665, 0.3434, 0.765, 0.256, 0.0223]"
   ]
  },
  {
   "cell_type": "code",
   "execution_count": 14,
   "metadata": {},
   "outputs": [
    {
     "name": "stdout",
     "output_type": "stream",
     "text": [
      "[0.897, 0.565, 0.656, 0.1234, 0.665, 0.3434, 0.765, 0.256, 0.0223]\n",
      "Sorted Array [0.0223, 0.1234, 0.256, 0.3434, 0.565, 0.656, 0.665, 0.765, 0.897]\n"
     ]
    }
   ],
   "source": [
    "print(sort_this)\n",
    "\n",
    "def selection_sort(sort_this):\n",
    "    list_copy =  sort_this.copy()\n",
    "    len_list = len(list_copy)\n",
    "    for i in range (len_list):\n",
    "        next_idx = i + 1\n",
    "        if next_idx < len_list:\n",
    "            min_idx = np.argmin(list_copy[next_idx:len_list])\n",
    "            if list_copy[i] > list_copy[min_idx+next_idx]: \n",
    "                list_copy[i], list_copy[min_idx+next_idx] = list_copy[min_idx+next_idx], list_copy[i]\n",
    "    return list_copy\n",
    "\n",
    "def bucket_sort(arr):\n",
    "    bucket_arr = []\n",
    "    output = []\n",
    "    bucket_count = 5\n",
    "    bucket_range = (round(max(arr)) - round(min(arr))) / bucket_count\n",
    "    \n",
    "    for i in range(bucket_count):\n",
    "        bucket_arr.append([])\n",
    "    \n",
    "    for i in range(len(arr)):\n",
    "        index = int((arr[i]*10) / (bucket_range*10))\n",
    "        bucket_arr[index].append(arr[i])\n",
    "    \n",
    "    for i, bucket_content in enumerate(bucket_arr):\n",
    "        sorted_bucket_content = selection_sort(bucket_content)\n",
    "        output += sorted_bucket_content\n",
    "    \n",
    "    return output\n",
    "        \n",
    "print(\"Sorted Array\", bucket_sort(sort_this))    "
   ]
  },
  {
   "attachments": {},
   "cell_type": "markdown",
   "metadata": {},
   "source": []
  }
 ],
 "metadata": {
  "kernelspec": {
   "display_name": "pytorch_2_prediction_kern",
   "language": "python",
   "name": "pytorch_2_prediction_kern"
  },
  "language_info": {
   "codemirror_mode": {
    "name": "ipython",
    "version": 3
   },
   "file_extension": ".py",
   "mimetype": "text/x-python",
   "name": "python",
   "nbconvert_exporter": "python",
   "pygments_lexer": "ipython3",
   "version": "3.9.16"
  },
  "orig_nbformat": 4
 },
 "nbformat": 4,
 "nbformat_minor": 2
}
