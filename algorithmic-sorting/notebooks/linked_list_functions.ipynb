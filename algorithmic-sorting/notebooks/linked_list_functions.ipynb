{
 "cells": [
  {
   "cell_type": "code",
   "execution_count": 18,
   "metadata": {},
   "outputs": [],
   "source": [
    "class ListNode:\n",
    "    def __init__(self, val=0, next=None):\n",
    "        self.val = val\n",
    "        self.next = next\n",
    "        \n",
    "    def __str__(self):\n",
    "        curr = self.next\n",
    "        val = self.val\n",
    "        str_out = \"\"\n",
    "        while curr:\n",
    "            str_out = str(val) + \" \" + str_out\n",
    "            val = curr.val\n",
    "            curr = curr.next\n",
    "        str_out = str(val) + \" \" + str_out\n",
    "        return str_out\n",
    "\n"
   ]
  },
  {
   "cell_type": "code",
   "execution_count": 19,
   "metadata": {},
   "outputs": [
    {
     "name": "stdout",
     "output_type": "stream",
     "text": [
      "With middle node ::  6 2 1 7 4 3 1 \n",
      "Without middle node ::  6 2 1 4 3 1 \n"
     ]
    }
   ],
   "source": [
    "from typing import Optional\n",
    "\n",
    "n1 = ListNode(6)\n",
    "n2 = ListNode(2, n1)\n",
    "n3 = ListNode(1, n2)\n",
    "n4 = ListNode(7, n3)\n",
    "n5 = ListNode(4, n4)\n",
    "n6 = ListNode(3, n5)\n",
    "n7 = ListNode(1, n6)\n",
    "\n",
    "print(\"With middle node :: \", n7)\n",
    "\n",
    "def deleteMiddle(head: Optional[ListNode]) -> Optional[ListNode]:\n",
    "    if not head.next:\n",
    "        return None\n",
    "    prev = slow = fast = head\n",
    "    while (fast != None and fast.next != None):\n",
    "        prev = slow\n",
    "        slow = slow.next \n",
    "        fast = fast.next.next\n",
    "    prev.next = slow.next\n",
    "    return head\n",
    "\n",
    "print(\"Without middle node :: \",deleteMiddle(head=n7))"
   ]
  },
  {
   "cell_type": "code",
   "execution_count": 21,
   "metadata": {},
   "outputs": [
    {
     "name": "stdout",
     "output_type": "stream",
     "text": [
      "Normal linked list ::  6 2 1 7 4 3 5 8 \n",
      "Odd and then even assembled ::  6 1 4 5 2 7 3 8 \n"
     ]
    }
   ],
   "source": [
    "from typing import Optional\n",
    "\n",
    "n1 = ListNode(6)\n",
    "n2 = ListNode(2, n1)\n",
    "n3 = ListNode(1, n2)\n",
    "n4 = ListNode(7, n3)\n",
    "n5 = ListNode(4, n4)\n",
    "n6 = ListNode(3, n5)\n",
    "n7 = ListNode(5, n6)\n",
    "n8 = ListNode(8, n7)\n",
    "\n",
    "\n",
    "print(\"Normal linked list :: \", n8)\n",
    "\n",
    "def oddEvenList(head: Optional[ListNode]) -> Optional[ListNode]:\n",
    "    if not head or not head.next or not head.next.next:\n",
    "        return head\n",
    "    oddHead = oddPtr = current = head\n",
    "    evnHead = evnPtr = head.next\n",
    "    i = 1\n",
    "    while current:\n",
    "        if i > 2 and i%2 != 0:\n",
    "            oddPtr.next = current\n",
    "            oddPtr = oddPtr.next\n",
    "        if i > 2 and i%2 == 0:\n",
    "            evnPtr.next = current\n",
    "            evnPtr = evnPtr.next\n",
    "        current = current.next\n",
    "        i += 1\n",
    "        \n",
    "    evnPtr.next = None\n",
    "    oddPtr.next = evnHead\n",
    "    return oddHead\n",
    "\n",
    "print(\"Odd and then even assembled :: \", oddEvenList(head = n8))"
   ]
  },
  {
   "cell_type": "code",
   "execution_count": 22,
   "metadata": {},
   "outputs": [
    {
     "name": "stdout",
     "output_type": "stream",
     "text": [
      "Normal linked list ::  6 2 1 7 4 3 5 8 \n",
      "Reverse linked list ::  8 5 3 4 7 1 2 6 \n"
     ]
    }
   ],
   "source": [
    "from typing import Optional\n",
    "\n",
    "n1 = ListNode(6)\n",
    "n2 = ListNode(2, n1)\n",
    "n3 = ListNode(1, n2)\n",
    "n4 = ListNode(7, n3)\n",
    "n5 = ListNode(4, n4)\n",
    "n6 = ListNode(3, n5)\n",
    "n7 = ListNode(5, n6)\n",
    "n8 = ListNode(8, n7)\n",
    "\n",
    "\n",
    "print(\"Normal linked list :: \", n8)\n",
    "\n",
    "def reverseList(head: Optional[ListNode]) -> Optional[ListNode]:\n",
    "        new_list = None\n",
    "        current =  head\n",
    "\n",
    "        while current:\n",
    "            next_node = current.next\n",
    "            current.next = new_list\n",
    "            new_list = current\n",
    "            current = next_node\n",
    "        return new_list\n",
    "    \n",
    "print(\"Reverse linked list :: \", reverseList(head = n8))"
   ]
  },
  {
   "cell_type": "code",
   "execution_count": 27,
   "metadata": {},
   "outputs": [
    {
     "name": "stdout",
     "output_type": "stream",
     "text": [
      "Normal linked list ::  1 2 6 7 5 4 3 8 \n",
      "Max twin sum ::  12\n"
     ]
    }
   ],
   "source": [
    "# Brute force twin sum (0, last), (1, last-1), (2, last-2)....\n",
    "\n",
    "from typing import Optional\n",
    "\n",
    "n1 = ListNode(1)\n",
    "n2 = ListNode(2, n1)\n",
    "n3 = ListNode(6, n2)\n",
    "n4 = ListNode(7, n3)\n",
    "n5 = ListNode(5, n4)\n",
    "n6 = ListNode(4, n5)\n",
    "n7 = ListNode(3, n6)\n",
    "n8 = ListNode(8, n7)\n",
    "\n",
    "\n",
    "print(\"Normal linked list :: \", n8)\n",
    "\n",
    "def pairSum(head: Optional[ListNode]) -> int:\n",
    "    curr = head\n",
    "    nodes = []\n",
    "    n = 0\n",
    "    while curr:\n",
    "        nodes.append(curr)\n",
    "        curr = curr.next\n",
    "\n",
    "    left = 0\n",
    "    right = len(nodes)-1\n",
    "    max_sum = 0\n",
    "    while left < right:\n",
    "        max_sum = max(max_sum, nodes[left].val + nodes[right].val)\n",
    "        left += 1\n",
    "        right-= 1\n",
    "    return max_sum\n",
    "\n",
    "print(\"Max twin sum :: \", pairSum(n8))"
   ]
  }
 ],
 "metadata": {
  "kernelspec": {
   "display_name": "pytorch_2_prediction_kern",
   "language": "python",
   "name": "pytorch_2_prediction_kern"
  },
  "language_info": {
   "codemirror_mode": {
    "name": "ipython",
    "version": 3
   },
   "file_extension": ".py",
   "mimetype": "text/x-python",
   "name": "python",
   "nbconvert_exporter": "python",
   "pygments_lexer": "ipython3",
   "version": "3.9.16"
  },
  "orig_nbformat": 4
 },
 "nbformat": 4,
 "nbformat_minor": 2
}
