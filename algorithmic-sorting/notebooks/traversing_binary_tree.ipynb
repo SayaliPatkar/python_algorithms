{
 "cells": [
  {
   "attachments": {},
   "cell_type": "markdown",
   "id": "d4da3f3c",
   "metadata": {},
   "source": [
    "# Minimal Python Tree Structure"
   ]
  },
  {
   "cell_type": "code",
   "execution_count": 1,
   "id": "359e7c21",
   "metadata": {},
   "outputs": [],
   "source": [
    "class Node(object):\n",
    "    def __init__(self, value):\n",
    "        self.value = value\n",
    "        self.left = None\n",
    "        self.right = None\n",
    "        \n",
    "        \n",
    "class BinaryTree(object):\n",
    "    def __init__(self, root):\n",
    "        self.root = Node(root)\n"
   ]
  },
  {
   "attachments": {},
   "cell_type": "markdown",
   "id": "ac810083",
   "metadata": {},
   "source": [
    "# Methods of Traversing Binary Tree"
   ]
  },
  {
   "cell_type": "code",
   "execution_count": 2,
   "id": "1ad40b79",
   "metadata": {},
   "outputs": [],
   "source": [
    "class Node(object):\n",
    "    def __init__(self, value):\n",
    "        self.value = value\n",
    "        self.left = None\n",
    "        self.right = None\n",
    "        \n",
    "        \n",
    "class BinaryTree(object):\n",
    "    def __init__(self, root):\n",
    "        self.root = Node(root)\n",
    "        \n",
    "    def print_tree(self, traversal_type):\n",
    "        if traversal_type == 'pre-order':\n",
    "            traversal_string = self.preorder_print(self.root, \"\")\n",
    "        if traversal_type == 'in-order':\n",
    "            traversal_string = self.inorder_print(self.root, \"\")\n",
    "        if traversal_type == 'post-order':\n",
    "            traversal_string = self.postorder_print(self.root, \"\")\n",
    "        return traversal_string[:-1]\n",
    "        \n",
    "    def preorder_print(self, start, traversal):\n",
    "        # CURRENT --> LEFT --> RIGHT\n",
    "        if start:\n",
    "            traversal += str(start.value) + \"-\"\n",
    "            traversal = self.preorder_print(start.left, traversal)\n",
    "            traversal = self.preorder_print(start.right, traversal)\n",
    "        return traversal\n",
    "    \n",
    "    def inorder_print(self, start, traversal):\n",
    "        # LEFT --> CURRENT --> RIGHT\n",
    "        if start:\n",
    "            traversal = self.inorder_print(start.left, traversal)\n",
    "            traversal += str(start.value) + \"-\"\n",
    "            traversal = self.inorder_print(start.right, traversal)\n",
    "        return traversal\n",
    "    \n",
    "    def postorder_print(self, start, traversal):\n",
    "         # LEFT --> RIGHT --> CURRENT \n",
    "        if start:\n",
    "            traversal = self.postorder_print(start.left, traversal)\n",
    "            traversal = self.postorder_print(start.right, traversal)\n",
    "            traversal += str(start.value) + \"-\"\n",
    "        return traversal"
   ]
  },
  {
   "cell_type": "code",
   "execution_count": 3,
   "id": "11e520aa",
   "metadata": {},
   "outputs": [],
   "source": [
    "tree = BinaryTree(2)\n",
    "tree.root.left = Node(7)\n",
    "tree.root.right = Node(8)\n",
    "\n",
    "tree.root.left.left = Node(3)\n",
    "tree.root.left.right = Node(6)\n",
    "tree.root.left.right.left = Node(5)\n",
    "tree.root.left.right.right = Node(9)\n",
    "\n",
    "tree.root.right.right = Node(1)\n",
    "tree.root.right.right.left = Node(4)"
   ]
  },
  {
   "attachments": {},
   "cell_type": "markdown",
   "id": "1d4c8184",
   "metadata": {},
   "source": [
    "# Pre-order traversal\n",
    "\n",
    "<img src=\"../data/preorder_.png\" alt=\"PREORDER\" width=\"700\"/>"
   ]
  },
  {
   "cell_type": "code",
   "execution_count": 4,
   "id": "082ebc9d",
   "metadata": {},
   "outputs": [
    {
     "name": "stdout",
     "output_type": "stream",
     "text": [
      "2-7-3-6-5-9-8-1-4\n"
     ]
    }
   ],
   "source": [
    "# ROOT --> LEFT --> RIGHT\n",
    "print(tree.print_tree('pre-order'))"
   ]
  },
  {
   "attachments": {},
   "cell_type": "markdown",
   "id": "2420ac12",
   "metadata": {},
   "source": [
    "# In-order traversal\n",
    "\n",
    "<img src=\"../data/inorder.png\" alt=\"INORDER\" width=\"800\"/>"
   ]
  },
  {
   "cell_type": "code",
   "execution_count": 7,
   "id": "52398aa5",
   "metadata": {},
   "outputs": [
    {
     "name": "stdout",
     "output_type": "stream",
     "text": [
      "3-7-5-6-9-2-8-4-1\n"
     ]
    }
   ],
   "source": [
    "print(tree.print_tree('in-order'))"
   ]
  },
  {
   "attachments": {},
   "cell_type": "markdown",
   "id": "20b1269d",
   "metadata": {},
   "source": [
    "# Post-order traversal\n",
    "\n",
    "<img src=\"../data/postorder.png\" alt=\"POSTORDER\" width=\"800\"/>"
   ]
  },
  {
   "cell_type": "code",
   "execution_count": 6,
   "id": "1f6094af",
   "metadata": {},
   "outputs": [
    {
     "name": "stdout",
     "output_type": "stream",
     "text": [
      "3-5-9-6-7-4-1-8-2\n"
     ]
    }
   ],
   "source": [
    "print(tree.print_tree('post-order'))"
   ]
  },
  {
   "cell_type": "code",
   "execution_count": null,
   "id": "eb3591ce",
   "metadata": {},
   "outputs": [],
   "source": []
  }
 ],
 "metadata": {
  "kernelspec": {
   "display_name": "gdal_tf_29_venv",
   "language": "python",
   "name": "gdal_tf_29_venv"
  },
  "language_info": {
   "codemirror_mode": {
    "name": "ipython",
    "version": 3
   },
   "file_extension": ".py",
   "mimetype": "text/x-python",
   "name": "python",
   "nbconvert_exporter": "python",
   "pygments_lexer": "ipython3",
   "version": "3.8.13"
  }
 },
 "nbformat": 4,
 "nbformat_minor": 5
}
