{
 "cells": [
  {
   "cell_type": "code",
   "execution_count": 42,
   "id": "3f4b5f93",
   "metadata": {},
   "outputs": [],
   "source": [
    "class Node(object):\n",
    "    def __init__(self, value):\n",
    "        self.value = value\n",
    "        self.children = []\n",
    "\n",
    "class NonBinaryGraph(object):\n",
    "    def __init__(self, root):\n",
    "        self.root = root\n",
    "        \n",
    "    def print_tree(self, traversal_type):\n",
    "        if traversal_type == 'breadth-first':\n",
    "            print_list = []\n",
    "            for node in self.breadth_first_traversal(self.root):\n",
    "                print_list.append(node.value)\n",
    "            return print_list\n",
    "        elif traversal_type == 'depth-first':\n",
    "            visited = []\n",
    "            print_list = []\n",
    "            for node in self.depth_first_traversal(self.root, visited):\n",
    "                print_list.append(node.value)\n",
    "            return print_list\n",
    "                \n",
    "        \n",
    "    def breadth_first_traversal(self, start):\n",
    "        visited = []\n",
    "        queue = [start] # FIFO stack\n",
    "        while len(queue) > 0:\n",
    "            currentNode = queue.pop(0)\n",
    "            visited.append(currentNode)\n",
    "            queue +=  currentNode.children\n",
    "        return visited\n",
    "\n",
    "    def depth_first_traversal(self, node, visited):\n",
    "        visited.append(node)\n",
    "        for child in node.children:\n",
    "            if child not in visited:\n",
    "                self.depth_first_traversal(child, visited)   \n",
    "        return visited      \n",
    "        \n"
   ]
  },
  {
   "cell_type": "code",
   "execution_count": 43,
   "id": "664c6707",
   "metadata": {},
   "outputs": [],
   "source": [
    "A = Node(\"A\")\n",
    "B = Node(\"B\")\n",
    "C = Node(\"C\")\n",
    "D = Node(\"D\")\n",
    "E = Node(\"E\")\n",
    "F = Node(\"F\")\n",
    "G = Node(\"G\")\n",
    "H = Node(\"H\")\n",
    "I = Node(\"I\")\n",
    "J = Node(\"J\")\n",
    "K = Node(\"K\")\n",
    "N = Node(\"N\")\n",
    "\n",
    "A.children = [B, C, D]\n",
    "B.children = [E, F]\n",
    "C.children = [N]\n",
    "D.children = [G, H]\n",
    "F.children = [I, J]\n",
    "G.children = [K]\n"
   ]
  },
  {
   "attachments": {},
   "cell_type": "markdown",
   "id": "b8e19f30",
   "metadata": {},
   "source": [
    "# Breadth First Search\n",
    "\n",
    "<img src=\"../data/bfs.png\" alt=\"BFS\" width=\"800\"/>\n",
    "        "
   ]
  },
  {
   "cell_type": "code",
   "execution_count": 44,
   "id": "30c97dd5",
   "metadata": {},
   "outputs": [
    {
     "name": "stdout",
     "output_type": "stream",
     "text": [
      "['A', 'B', 'C', 'D', 'E', 'F', 'N', 'G', 'H', 'I', 'J', 'K']\n"
     ]
    }
   ],
   "source": [
    "tree = NonBinaryGraph(A)\n",
    "print(tree.print_tree('breadth-first'))"
   ]
  },
  {
   "attachments": {},
   "cell_type": "markdown",
   "id": "7fbf6eb3",
   "metadata": {},
   "source": [
    "# Depth First Search\n",
    "\n",
    "<img src=\"../data/dfs1.png\" alt=\"DFS1\" width=\"800\"/>"
   ]
  },
  {
   "cell_type": "code",
   "execution_count": 45,
   "id": "f5aeeb08",
   "metadata": {},
   "outputs": [
    {
     "name": "stdout",
     "output_type": "stream",
     "text": [
      "['A', 'B', 'E', 'F', 'I', 'J', 'C', 'N', 'D', 'G', 'K', 'H']\n"
     ]
    }
   ],
   "source": [
    "tree = NonBinaryGraph(A)\n",
    "print(tree.print_tree('depth-first'))"
   ]
  },
  {
   "attachments": {},
   "cell_type": "markdown",
   "id": "266ac0bc",
   "metadata": {},
   "source": [
    "# Depth First Search Cyclic Graph\n",
    "\n",
    "<img src=\"../data/dfs2.png\" alt=\"DFS2\" width=\"500\"/>"
   ]
  },
  {
   "cell_type": "code",
   "execution_count": 48,
   "id": "4d004ac3",
   "metadata": {},
   "outputs": [
    {
     "name": "stdout",
     "output_type": "stream",
     "text": [
      "['S', 'L', 'R', 'A', 'C']\n"
     ]
    }
   ],
   "source": [
    "S = Node(\"S\")\n",
    "A = Node(\"A\")\n",
    "R = Node(\"R\")\n",
    "L = Node(\"L\")\n",
    "C = Node(\"C\")\n",
    "\n",
    "\n",
    "S.children = [L, A, C]\n",
    "L.children = [R]\n",
    "C.children = [R]\n",
    "A.children = [R]\n",
    "\n",
    "tree = NonBinaryGraph(S)\n",
    "print(tree.print_tree('depth-first'))"
   ]
  },
  {
   "cell_type": "code",
   "execution_count": null,
   "id": "d1ce3268",
   "metadata": {},
   "outputs": [],
   "source": []
  }
 ],
 "metadata": {
  "kernelspec": {
   "display_name": "Python 3 (ipykernel)",
   "language": "python",
   "name": "python3"
  },
  "language_info": {
   "codemirror_mode": {
    "name": "ipython",
    "version": 3
   },
   "file_extension": ".py",
   "mimetype": "text/x-python",
   "name": "python",
   "nbconvert_exporter": "python",
   "pygments_lexer": "ipython3",
   "version": "3.8.16"
  }
 },
 "nbformat": 4,
 "nbformat_minor": 5
}
