{
 "cells": [
  {
   "cell_type": "markdown",
   "id": "c19432e1",
   "metadata": {},
   "source": [
    "There is a test that has n types of questions. \n",
    "You are given an integer target and a 2 arrays counts and marks.\n",
    "counts represents number of questions available for ith question type (out of n types)\n",
    "and marks represent marks alloted for single ith question type (out of n types)\n",
    "\n",
    "Return the number of ways you can earn exactly target points in the exam. \n",
    "Since the answer may be too large, return it modulo 109 + 7.\n",
    "\n",
    "Note that questions of the same type are indistinguishable.\n",
    "For example, if there are 3 questions of the same type,\n",
    "then solving the 1st and 2nd questions is the same as solving the 1st and 3rd questions, or the 2nd and 3rd questions.\n"
   ]
  },
  {
   "cell_type": "code",
   "execution_count": 6,
   "id": "bc898000",
   "metadata": {},
   "outputs": [],
   "source": [
    "def waysToReachTarget(target, counts, marks, n):\n",
    "    if n==0 or target==0:\n",
    "        return 0\n",
    "    if marks[n-1] >= target:\n",
    "        return waysToReachTarget(target, counts, marks, n-1)\n",
    "    else:\n",
    "        if counts[n-1] > 0:\n",
    "            counts[n-1] = counts[n-1] - 1\n",
    "            return marks[n-1] + waysToReachTarget(target-marks[n-1], counts, marks, n-1)\n",
    "            \n",
    "        "
   ]
  },
  {
   "cell_type": "code",
   "execution_count": 7,
   "id": "3307e7ec",
   "metadata": {},
   "outputs": [
    {
     "data": {
      "text/plain": [
       "5"
      ]
     },
     "execution_count": 7,
     "metadata": {},
     "output_type": "execute_result"
    }
   ],
   "source": [
    "target = 6\n",
    "counts = [6, 3, 2]\n",
    "marks = [1, 2, 3]\n",
    "waysToReachTarget(target, counts, marks, len(counts))"
   ]
  },
  {
   "cell_type": "code",
   "execution_count": null,
   "id": "5f10b504",
   "metadata": {},
   "outputs": [],
   "source": []
  }
 ],
 "metadata": {
  "kernelspec": {
   "display_name": "chind_apply_3",
   "language": "python",
   "name": "chind_apply_3"
  },
  "language_info": {
   "codemirror_mode": {
    "name": "ipython",
    "version": 3
   },
   "file_extension": ".py",
   "mimetype": "text/x-python",
   "name": "python",
   "nbconvert_exporter": "python",
   "pygments_lexer": "ipython3",
   "version": "3.8.16"
  }
 },
 "nbformat": 4,
 "nbformat_minor": 5
}
