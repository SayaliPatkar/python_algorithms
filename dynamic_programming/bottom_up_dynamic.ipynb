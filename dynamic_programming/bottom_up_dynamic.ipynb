{
 "cells": [
  {
   "cell_type": "markdown",
   "id": "bd7eb049",
   "metadata": {},
   "source": [
    "## Bottom-Up Dynamic Programming\n",
    "\n",
    "Not all dynamic solutions work in the same way. \n",
    "Some are built bottom-up while others are built top-down. \n",
    "The distinction can be found in how each begins a problem and how sub-problem results are stored.\n",
    "\n",
    "Bottom-up dynamic programming solutions start by looking at the smallest possible sub-problem, \n",
    "called the base case, and then works step-by-step up to each sub-problem. As each sub-problem \n",
    "is solved, its solution is saved and used to solve the next lowest sub-problem. In the end, \n",
    "these building solutions will lead to an answer to the main problem.\n",
    "\n",
    "## Tabulation\n",
    "Tabulation is the process of storing results of sub-problems from a bottom-up approach sequentially.\n",
    "\n",
    "In tabulation, we don’t pick and choose which sub-problems need to be solved and instead solve every sub-problem between the base case and the main problem. This sequential order lends tabulation to use either lists or array, as those collections organize information in a specific order."
   ]
  },
  {
   "cell_type": "code",
   "execution_count": 1,
   "id": "5c610d14",
   "metadata": {},
   "outputs": [
    {
     "name": "stdout",
     "output_type": "stream",
     "text": [
      "354224848179261915075\n"
     ]
    }
   ],
   "source": [
    "# fibonacci in Bottom up approach\n",
    "def fib(n):\n",
    "    # table for tabulation\n",
    "    table = [None] * (n+1)\n",
    "    table[0] = 0        # base case 1, fib(0) = 0\n",
    "    table[1] = 1        # base case 2, fib(1) = 1\n",
    "    if n == 0:\n",
    "        return table[0]\n",
    "    if n == 1:\n",
    "        return table[1]\n",
    "  \n",
    "    # filling up tabulation table starting from 2 and going upto n\n",
    "    for i in range(2, n+1):  \n",
    "        # we have result of i-1 and i-2 available because these had been evaluated already\n",
    "        table[i] = table[i-1] + table[i-2]  \n",
    "    # return the value of n in tabulation table\n",
    "    return table[n]    \n",
    "\n",
    "print(fib(100))"
   ]
  },
  {
   "cell_type": "code",
   "execution_count": null,
   "id": "feeaacfb",
   "metadata": {},
   "outputs": [],
   "source": []
  }
 ],
 "metadata": {
  "kernelspec": {
   "display_name": "chind_apply_3",
   "language": "python",
   "name": "chind_apply_3"
  },
  "language_info": {
   "codemirror_mode": {
    "name": "ipython",
    "version": 3
   },
   "file_extension": ".py",
   "mimetype": "text/x-python",
   "name": "python",
   "nbconvert_exporter": "python",
   "pygments_lexer": "ipython3",
   "version": "3.8.16"
  }
 },
 "nbformat": 4,
 "nbformat_minor": 5
}
