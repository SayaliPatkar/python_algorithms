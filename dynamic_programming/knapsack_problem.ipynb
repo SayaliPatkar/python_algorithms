{
 "cells": [
  {
   "cell_type": "markdown",
   "id": "194685a7",
   "metadata": {},
   "source": [
    "## Problem Statement:\n",
    "\n",
    "Given a list of weights and a list of costs, find the optimal subset of things \n",
    "that form the highest cumulative price bounded by the capacity of the knapsack.\n",
    "\n",
    "Try to think of a simple solution to this problem. Once you have implemented \n",
    "that, add the memoization to account for more complex problems."
   ]
  },
  {
   "cell_type": "code",
   "execution_count": null,
   "id": "11ad7907",
   "metadata": {},
   "outputs": [],
   "source": [
    "def knapsack(weights, prices, capacity):\n",
    "  # your code goes here\n",
    "  \n",
    "  return 0"
   ]
  }
 ],
 "metadata": {
  "kernelspec": {
   "display_name": "chind_apply_3",
   "language": "python",
   "name": "chind_apply_3"
  },
  "language_info": {
   "codemirror_mode": {
    "name": "ipython",
    "version": 3
   },
   "file_extension": ".py",
   "mimetype": "text/x-python",
   "name": "python",
   "nbconvert_exporter": "python",
   "pygments_lexer": "ipython3",
   "version": "3.8.16"
  }
 },
 "nbformat": 4,
 "nbformat_minor": 5
}
