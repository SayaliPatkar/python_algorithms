{
 "cells": [
  {
   "cell_type": "markdown",
   "id": "13612135",
   "metadata": {},
   "source": [
    "## Top-down Dynamic Programming\n",
    "\n",
    "Top-down dynamic programming is the opposite to bottom-up. \n",
    "A top-down solution first looks at the main problem and breaks it into \n",
    "smaller and smaller necessary sup-problems until the base case is reached. \n",
    "This is the most common way of building recursive solutions.\n",
    "\n",
    "In using this style of recursive chain, top-down dynamic programming only \n",
    "solves sub-problems as they are needed rather than solving all in order.\n",
    "\n",
    "\n",
    "## Memoization\n",
    "Memoization is the process of storing sub-problem results in a top-down approach.\n",
    "\n",
    "Since top-down approaches solve problems as needed, memoization must store data in a non-sequential way. \n",
    "This means hashtables are the best collection type, as they store data in an unordered way.\n",
    "\n",
    "In Python, this is best accomplished using the dictionary data structure because we \n",
    "can use it to store unordered data with key/value pairs.\n"
   ]
  },
  {
   "cell_type": "code",
   "execution_count": 1,
   "id": "14e37ae8",
   "metadata": {},
   "outputs": [
    {
     "name": "stdout",
     "output_type": "stream",
     "text": [
      "354224848179261915075\n"
     ]
    }
   ],
   "source": [
    "calculated_fibo = {}\n",
    "def dynamic_fibonacci(num: int) ->int:\n",
    "    if num == 0:\n",
    "        return 0\n",
    "    elif num == 1:\n",
    "        return 1\n",
    "    elif num in calculated_fibo:\n",
    "        return calculated_fibo[num]\n",
    "    else:\n",
    "        calculated_fibo[num] = dynamic_fibonacci(num-1) + dynamic_fibonacci(num-2)\n",
    "        return calculated_fibo[num]\n",
    "\n",
    "print(dynamic_fibonacci(100))"
   ]
  },
  {
   "cell_type": "code",
   "execution_count": null,
   "id": "0f39a6d5",
   "metadata": {},
   "outputs": [],
   "source": []
  }
 ],
 "metadata": {
  "kernelspec": {
   "display_name": "chind_apply_3",
   "language": "python",
   "name": "chind_apply_3"
  },
  "language_info": {
   "codemirror_mode": {
    "name": "ipython",
    "version": 3
   },
   "file_extension": ".py",
   "mimetype": "text/x-python",
   "name": "python",
   "nbconvert_exporter": "python",
   "pygments_lexer": "ipython3",
   "version": "3.8.16"
  }
 },
 "nbformat": 4,
 "nbformat_minor": 5
}
