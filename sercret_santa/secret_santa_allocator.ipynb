{
 "cells": [
  {
   "cell_type": "code",
   "execution_count": 1,
   "id": "1837aa5e",
   "metadata": {},
   "outputs": [],
   "source": [
    "import re\n",
    "import random\n",
    "import smtplib\n",
    "from email.mime.multipart import MIMEMultipart\n",
    "from email.mime.text import MIMEText"
   ]
  },
  {
   "cell_type": "code",
   "execution_count": 7,
   "id": "1cf4775c",
   "metadata": {},
   "outputs": [
    {
     "name": "stdout",
     "output_type": "stream",
     "text": [
      "{'sayali': 'sayali.r.patkar@gmail.com', 'sara': 'sarapa10@gmail.com', 'gafali': 'sayali.patkar@gaf.de', 'navra': 'saurabhk4@gmail.com', 'sauruto': 'saurabrk@usc.edu'}\n"
     ]
    }
   ],
   "source": [
    "p_info_file = \"./participant_info.txt\"\n",
    "p_dict= {}\n",
    "\n",
    "with open(p_info_file) as f:\n",
    "    participants=f.read().splitlines()\n",
    "    for p in participants:\n",
    "        name, email_id  = p.split(\" \")\n",
    "        p_dict[name]=email_id\n",
    "        \n",
    "print(p_dict)"
   ]
  },
  {
   "cell_type": "code",
   "execution_count": 9,
   "id": "59ae678a",
   "metadata": {},
   "outputs": [
    {
     "name": "stdout",
     "output_type": "stream",
     "text": [
      "['sayali', 'sara', 'gafali', 'navra', 'sauruto']\n",
      "['sayali.r.patkar@gmail.com', 'sarapa10@gmail.com', 'sayali.patkar@gaf.de', 'saurabhk4@gmail.com', 'saurabrk@usc.edu']\n"
     ]
    }
   ],
   "source": [
    "persons = list(p_dict.keys())\n",
    "#p_email_list = list(p_dict.values())\n",
    "print(persons)\n",
    "print(p_email_list)"
   ]
  },
  {
   "cell_type": "code",
   "execution_count": 13,
   "id": "0da48bc8",
   "metadata": {},
   "outputs": [
    {
     "name": "stdout",
     "output_type": "stream",
     "text": [
      "['sayali', 'sara', 'gafali', 'navra', 'sauruto']\n",
      "['gafali', 'sauruto', 'navra', 'sayali', 'sara']\n"
     ]
    }
   ],
   "source": [
    "receiver_list = persons.copy()\n",
    "recipients = []\n",
    "redo = True\n",
    "\n",
    "while redo:\n",
    "    redo = False\n",
    "    for santa in persons:\n",
    "        gift_receiver = random.choice(receiver_list)\n",
    "        done = False\n",
    "        while not done:\n",
    "            if santa == gift_receiver:\n",
    "                if len(receiver_list)==1:\n",
    "                    redo = True\n",
    "                    done = True\n",
    "                else:\n",
    "                    gift_receiver = random.choice(receiver_list)\n",
    "            else:\n",
    "                done = True\n",
    "        if not redo:\n",
    "            recipients.append(gift_receiver)\n",
    "            idx = receiver_list.index(gift_receiver) \n",
    "            receiver_list.pop(idx)\n",
    "\n",
    "        \n",
    "print(persons)        \n",
    "print(recipients)             "
   ]
  },
  {
   "cell_type": "code",
   "execution_count": 18,
   "id": "f18ec3d4",
   "metadata": {},
   "outputs": [
    {
     "name": "stdout",
     "output_type": "stream",
     "text": [
      "Hello sayali, \n",
      "        \n",
      "You are the secret santa of gafali! (sayali.patkar@gaf.de)\n",
      "        \n",
      "Remember the spending cap is €5 and we exchange the gifts at GAF Christmas Party on Wednesday 7.12.2022.\n",
      "        \n",
      "Have fun choosing the gift!\n",
      "        \n",
      "Regards,\n",
      "        \n",
      "Santa Allocator\n",
      "    \n"
     ]
    },
    {
     "ename": "TimeoutError",
     "evalue": "[WinError 10060] A connection attempt failed because the connected party did not properly respond after a period of time, or established connection failed because connected host has failed to respond",
     "output_type": "error",
     "traceback": [
      "\u001b[1;31m---------------------------------------------------------------------------\u001b[0m",
      "\u001b[1;31mTimeoutError\u001b[0m                              Traceback (most recent call last)",
      "Input \u001b[1;32mIn [18]\u001b[0m, in \u001b[0;36m<cell line: 4>\u001b[1;34m()\u001b[0m\n\u001b[0;32m     23\u001b[0m message\u001b[38;5;241m.\u001b[39mattach(MIMEText(mail_content, \u001b[38;5;124m'\u001b[39m\u001b[38;5;124mplain\u001b[39m\u001b[38;5;124m'\u001b[39m))\n\u001b[0;32m     25\u001b[0m \u001b[38;5;66;03m# creates the SMTP session for sending the mail\u001b[39;00m\n\u001b[1;32m---> 26\u001b[0m session \u001b[38;5;241m=\u001b[39m \u001b[43msmtplib\u001b[49m\u001b[38;5;241;43m.\u001b[39;49m\u001b[43mSMTP\u001b[49m\u001b[43m(\u001b[49m\u001b[38;5;124;43m'\u001b[39;49m\u001b[38;5;124;43msmtp.gmail.com\u001b[39;49m\u001b[38;5;124;43m'\u001b[39;49m\u001b[43m,\u001b[49m\u001b[43m \u001b[49m\u001b[38;5;241;43m465\u001b[39;49m\u001b[43m)\u001b[49m\n\u001b[0;32m     27\u001b[0m session\u001b[38;5;241m.\u001b[39mconnect(\u001b[38;5;124m\"\u001b[39m\u001b[38;5;124msmtp.gmail.com\u001b[39m\u001b[38;5;124m\"\u001b[39m, \u001b[38;5;241m465\u001b[39m)\n\u001b[0;32m     28\u001b[0m session\u001b[38;5;241m.\u001b[39mehlo()\n",
      "File \u001b[1;32mC:\\Anaconda3_64\\envs\\python_basic_venv\\lib\\smtplib.py:255\u001b[0m, in \u001b[0;36mSMTP.__init__\u001b[1;34m(self, host, port, local_hostname, timeout, source_address)\u001b[0m\n\u001b[0;32m    252\u001b[0m \u001b[38;5;28mself\u001b[39m\u001b[38;5;241m.\u001b[39m_auth_challenge_count \u001b[38;5;241m=\u001b[39m \u001b[38;5;241m0\u001b[39m\n\u001b[0;32m    254\u001b[0m \u001b[38;5;28;01mif\u001b[39;00m host:\n\u001b[1;32m--> 255\u001b[0m     (code, msg) \u001b[38;5;241m=\u001b[39m \u001b[38;5;28;43mself\u001b[39;49m\u001b[38;5;241;43m.\u001b[39;49m\u001b[43mconnect\u001b[49m\u001b[43m(\u001b[49m\u001b[43mhost\u001b[49m\u001b[43m,\u001b[49m\u001b[43m \u001b[49m\u001b[43mport\u001b[49m\u001b[43m)\u001b[49m\n\u001b[0;32m    256\u001b[0m     \u001b[38;5;28;01mif\u001b[39;00m code \u001b[38;5;241m!=\u001b[39m \u001b[38;5;241m220\u001b[39m:\n\u001b[0;32m    257\u001b[0m         \u001b[38;5;28mself\u001b[39m\u001b[38;5;241m.\u001b[39mclose()\n",
      "File \u001b[1;32mC:\\Anaconda3_64\\envs\\python_basic_venv\\lib\\smtplib.py:341\u001b[0m, in \u001b[0;36mSMTP.connect\u001b[1;34m(self, host, port, source_address)\u001b[0m\n\u001b[0;32m    339\u001b[0m     port \u001b[38;5;241m=\u001b[39m \u001b[38;5;28mself\u001b[39m\u001b[38;5;241m.\u001b[39mdefault_port\n\u001b[0;32m    340\u001b[0m sys\u001b[38;5;241m.\u001b[39maudit(\u001b[38;5;124m\"\u001b[39m\u001b[38;5;124msmtplib.connect\u001b[39m\u001b[38;5;124m\"\u001b[39m, \u001b[38;5;28mself\u001b[39m, host, port)\n\u001b[1;32m--> 341\u001b[0m \u001b[38;5;28mself\u001b[39m\u001b[38;5;241m.\u001b[39msock \u001b[38;5;241m=\u001b[39m \u001b[38;5;28;43mself\u001b[39;49m\u001b[38;5;241;43m.\u001b[39;49m\u001b[43m_get_socket\u001b[49m\u001b[43m(\u001b[49m\u001b[43mhost\u001b[49m\u001b[43m,\u001b[49m\u001b[43m \u001b[49m\u001b[43mport\u001b[49m\u001b[43m,\u001b[49m\u001b[43m \u001b[49m\u001b[38;5;28;43mself\u001b[39;49m\u001b[38;5;241;43m.\u001b[39;49m\u001b[43mtimeout\u001b[49m\u001b[43m)\u001b[49m\n\u001b[0;32m    342\u001b[0m \u001b[38;5;28mself\u001b[39m\u001b[38;5;241m.\u001b[39mfile \u001b[38;5;241m=\u001b[39m \u001b[38;5;28;01mNone\u001b[39;00m\n\u001b[0;32m    343\u001b[0m (code, msg) \u001b[38;5;241m=\u001b[39m \u001b[38;5;28mself\u001b[39m\u001b[38;5;241m.\u001b[39mgetreply()\n",
      "File \u001b[1;32mC:\\Anaconda3_64\\envs\\python_basic_venv\\lib\\smtplib.py:312\u001b[0m, in \u001b[0;36mSMTP._get_socket\u001b[1;34m(self, host, port, timeout)\u001b[0m\n\u001b[0;32m    310\u001b[0m \u001b[38;5;28;01mif\u001b[39;00m \u001b[38;5;28mself\u001b[39m\u001b[38;5;241m.\u001b[39mdebuglevel \u001b[38;5;241m>\u001b[39m \u001b[38;5;241m0\u001b[39m:\n\u001b[0;32m    311\u001b[0m     \u001b[38;5;28mself\u001b[39m\u001b[38;5;241m.\u001b[39m_print_debug(\u001b[38;5;124m'\u001b[39m\u001b[38;5;124mconnect: to\u001b[39m\u001b[38;5;124m'\u001b[39m, (host, port), \u001b[38;5;28mself\u001b[39m\u001b[38;5;241m.\u001b[39msource_address)\n\u001b[1;32m--> 312\u001b[0m \u001b[38;5;28;01mreturn\u001b[39;00m \u001b[43msocket\u001b[49m\u001b[38;5;241;43m.\u001b[39;49m\u001b[43mcreate_connection\u001b[49m\u001b[43m(\u001b[49m\u001b[43m(\u001b[49m\u001b[43mhost\u001b[49m\u001b[43m,\u001b[49m\u001b[43m \u001b[49m\u001b[43mport\u001b[49m\u001b[43m)\u001b[49m\u001b[43m,\u001b[49m\u001b[43m \u001b[49m\u001b[43mtimeout\u001b[49m\u001b[43m,\u001b[49m\n\u001b[0;32m    313\u001b[0m \u001b[43m                                \u001b[49m\u001b[38;5;28;43mself\u001b[39;49m\u001b[38;5;241;43m.\u001b[39;49m\u001b[43msource_address\u001b[49m\u001b[43m)\u001b[49m\n",
      "File \u001b[1;32mC:\\Anaconda3_64\\envs\\python_basic_venv\\lib\\socket.py:845\u001b[0m, in \u001b[0;36mcreate_connection\u001b[1;34m(address, timeout, source_address)\u001b[0m\n\u001b[0;32m    843\u001b[0m \u001b[38;5;28;01mif\u001b[39;00m err \u001b[38;5;129;01mis\u001b[39;00m \u001b[38;5;129;01mnot\u001b[39;00m \u001b[38;5;28;01mNone\u001b[39;00m:\n\u001b[0;32m    844\u001b[0m     \u001b[38;5;28;01mtry\u001b[39;00m:\n\u001b[1;32m--> 845\u001b[0m         \u001b[38;5;28;01mraise\u001b[39;00m err\n\u001b[0;32m    846\u001b[0m     \u001b[38;5;28;01mfinally\u001b[39;00m:\n\u001b[0;32m    847\u001b[0m         \u001b[38;5;66;03m# Break explicitly a reference cycle\u001b[39;00m\n\u001b[0;32m    848\u001b[0m         err \u001b[38;5;241m=\u001b[39m \u001b[38;5;28;01mNone\u001b[39;00m\n",
      "File \u001b[1;32mC:\\Anaconda3_64\\envs\\python_basic_venv\\lib\\socket.py:833\u001b[0m, in \u001b[0;36mcreate_connection\u001b[1;34m(address, timeout, source_address)\u001b[0m\n\u001b[0;32m    831\u001b[0m \u001b[38;5;28;01mif\u001b[39;00m source_address:\n\u001b[0;32m    832\u001b[0m     sock\u001b[38;5;241m.\u001b[39mbind(source_address)\n\u001b[1;32m--> 833\u001b[0m \u001b[43msock\u001b[49m\u001b[38;5;241;43m.\u001b[39;49m\u001b[43mconnect\u001b[49m\u001b[43m(\u001b[49m\u001b[43msa\u001b[49m\u001b[43m)\u001b[49m\n\u001b[0;32m    834\u001b[0m \u001b[38;5;66;03m# Break explicitly a reference cycle\u001b[39;00m\n\u001b[0;32m    835\u001b[0m err \u001b[38;5;241m=\u001b[39m \u001b[38;5;28;01mNone\u001b[39;00m\n",
      "\u001b[1;31mTimeoutError\u001b[0m: [WinError 10060] A connection attempt failed because the connected party did not properly respond after a period of time, or established connection failed because connected host has failed to respond"
     ]
    }
   ],
   "source": [
    "budget = 5\n",
    "sender_address = \"secret.santa.allocator@gmail.com\"\n",
    "sender_pass = \"sarapa10\"\n",
    "for i in range(0, len(persons)):    # the message which will be sent in the email\n",
    "    mail_content = f'''Hello {persons[i]}, \n",
    "        \\nYou are the secret santa of {recipients[i]}! ({p_dict[recipients[i]]})\n",
    "        \\nRemember the spending cap is €{budget} and we exchange the gifts at GAF Christmas Party on Wednesday 7.12.2022.\n",
    "        \\nHave fun choosing the gift!\n",
    "        \\nRegards,\n",
    "        \\nSanta Allocator\n",
    "    '''\n",
    "    print(mail_content)\n",
    "    # sets the email address the email will be sent to\n",
    "    receiver_address = p_dict[persons[i]]\n",
    "    \n",
    "    # sets up the MIME\n",
    "    message = MIMEMultipart()\n",
    "    message['From'] = sender_address # your email address\n",
    "    message['To'] = receiver_address # Secret Santa's email address\n",
    "    message['Subject'] = 'Secret Data Analytics Santa 2022' # subject of the \n",
    "    \n",
    "    # sets the body of the mail\n",
    "    message.attach(MIMEText(mail_content, 'plain'))\n",
    "    \n",
    "    # creates the SMTP session for sending the mail\n",
    "    session = smtplib.SMTP('smtp.gmail.com', 465)\n",
    "    session.connect(\"smtp.gmail.com\", 465)\n",
    "    session.ehlo()\n",
    "    session.starttls()\n",
    "    session.login(sender_address, sender_pass)\n",
    "    text = message.as_string()\n",
    "    session.sendmail(sender_address, receiver_address, text)\n",
    "    session.quit()\n",
    "    "
   ]
  },
  {
   "cell_type": "code",
   "execution_count": 19,
   "id": "290ec138",
   "metadata": {},
   "outputs": [
    {
     "name": "stdout",
     "output_type": "stream",
     "text": [
      "Something went wrong...\n"
     ]
    }
   ],
   "source": []
  },
  {
   "cell_type": "code",
   "execution_count": null,
   "id": "f9caaa38",
   "metadata": {},
   "outputs": [],
   "source": []
  }
 ],
 "metadata": {
  "kernelspec": {
   "display_name": "python_basic_venv",
   "language": "python",
   "name": "python_basic_venv"
  },
  "language_info": {
   "codemirror_mode": {
    "name": "ipython",
    "version": 3
   },
   "file_extension": ".py",
   "mimetype": "text/x-python",
   "name": "python",
   "nbconvert_exporter": "python",
   "pygments_lexer": "ipython3",
   "version": "3.10.8"
  }
 },
 "nbformat": 4,
 "nbformat_minor": 5
}
