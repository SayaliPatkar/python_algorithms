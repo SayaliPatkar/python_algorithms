{
 "cells": [
  {
   "cell_type": "code",
   "execution_count": 9,
   "id": "8f854f9b",
   "metadata": {},
   "outputs": [],
   "source": [
    "# https://www.authsmtp.com/windows-10-mail-app/\n",
    "sender_address = \"secret.santa.allocator@gmail.com\"\n",
    "sender_pass = \"sarapa10\"\n",
    "text = \"Hello \\nFrom \\nThe \\nOther \\nSide\"\n",
    "receiver_address = \"sarapa10@gmail.com\""
   ]
  },
  {
   "cell_type": "code",
   "execution_count": 2,
   "id": "b362e0d2",
   "metadata": {},
   "outputs": [
    {
     "name": "stdout",
     "output_type": "stream",
     "text": [
      "Something went wrong...\n"
     ]
    }
   ],
   "source": [
    "import smtplib\n",
    "\n",
    "try:\n",
    "    server = smtplib.SMTP('smtp.gmail.com', 587)\n",
    "    server.ehlo()\n",
    "    session.login(sender_address, sender_pass)\n",
    "    session.sendmail(sender_address, receiver_address, text)\n",
    "    session.quit()\n",
    "except:\n",
    "    print('Something went wrong...')"
   ]
  },
  {
   "cell_type": "code",
   "execution_count": 6,
   "id": "3720db7f",
   "metadata": {},
   "outputs": [
    {
     "name": "stdout",
     "output_type": "stream",
     "text": [
      "[WinError 10060] A connection attempt failed because the connected party did not properly respond after a period of time, or established connection failed because connected host has failed to respond\n"
     ]
    }
   ],
   "source": [
    "import smtplib\n",
    "\n",
    "try:\n",
    "    server_ssl = smtplib.SMTP_SSL('smtp.gmail.com', 465)\n",
    "    server_ssl.ehlo()   # optional\n",
    "    session.login(sender_address, sender_pass)\n",
    "    session.sendmail(sender_address, receiver_address, text)\n",
    "    session.quit()\n",
    "except Exception as e:\n",
    "    print(e)"
   ]
  },
  {
   "cell_type": "code",
   "execution_count": null,
   "id": "782c781d",
   "metadata": {},
   "outputs": [],
   "source": [
    "E-Mailserver: smtp.office365.com\n",
    "\n",
    "Port: 587\n",
    "\n",
    "Benutzername: Ihre Office 365 E-Mailadresse\n",
    "\n",
    "Passwort: Ihr Passwort\n",
    "\n",
    "Server erfordert SSL Verschlüsselung: aktivieren"
   ]
  },
  {
   "cell_type": "code",
   "execution_count": 10,
   "id": "88e0c254",
   "metadata": {},
   "outputs": [
    {
     "name": "stdout",
     "output_type": "stream",
     "text": [
      "[WinError 10060] A connection attempt failed because the connected party did not properly respond after a period of time, or established connection failed because connected host has failed to respond\n"
     ]
    }
   ],
   "source": [
    "sender_address = \"sayali.patkar@gaf.de\"\n",
    "sender_pass = \"\"\n",
    "import smtplib\n",
    "\n",
    "try:\n",
    "    server_ssl = smtplib.SMTP_SSL('smtp.office365.com', 587)\n",
    "    server_ssl.ehlo()   # optional\n",
    "    session.login(sender_address, sender_pass)\n",
    "    session.sendmail(sender_address, receiver_address, text)\n",
    "    session.quit()\n",
    "except Exception as e:\n",
    "    print(e)"
   ]
  },
  {
   "cell_type": "code",
   "execution_count": null,
   "id": "54f6ae2e",
   "metadata": {},
   "outputs": [],
   "source": []
  }
 ],
 "metadata": {
  "kernelspec": {
   "display_name": "python_basic_venv",
   "language": "python",
   "name": "python_basic_venv"
  },
  "language_info": {
   "codemirror_mode": {
    "name": "ipython",
    "version": 3
   },
   "file_extension": ".py",
   "mimetype": "text/x-python",
   "name": "python",
   "nbconvert_exporter": "python",
   "pygments_lexer": "ipython3",
   "version": "3.10.8"
  }
 },
 "nbformat": 4,
 "nbformat_minor": 5
}
